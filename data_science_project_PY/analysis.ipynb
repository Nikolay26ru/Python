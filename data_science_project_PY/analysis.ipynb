import pandas as pd
from sklearn.model_selection import train_test_split
from sklearn.feature_extraction.text import CountVectorizer
from sklearn.linear_model import LogisticRegression
from sklearn.metrics import classification_report
import matplotlib.pyplot as plt

data = pd.DataFrame({
    "text": [
        "Отличный товар!", "Плохое качество", "Очень доволен покупкой", "Не рекомендую", "Все понравилось", "Ужасный сервис"
    ],
    "label": [1, 0, 1, 0, 1, 0]
})

X_train, X_test, y_train, y_test = train_test_split(data["text"], data["label"], test_size=0.33, random_state=42)
vectorizer = CountVectorizer()
X_train_vec = vectorizer.fit_transform(X_train)
X_test_vec = vectorizer.transform(X_test)

model = LogisticRegression()
model.fit(X_train_vec, y_train)
y_pred = model.predict(X_test_vec)
print(classification_report(y_test, y_pred))
plt.bar(["Положительные", "Отрицательные"], [sum(y_pred), len(y_pred)-sum(y_pred)])
plt.title("Распределение предсказаний")
plt.show()
